{
  "nbformat": 4,
  "nbformat_minor": 0,
  "metadata": {
    "colab": {
      "provenance": [],
      "authorship_tag": "ABX9TyND1dVSe1T0yB4BnrIBJ28N",
      "include_colab_link": true
    },
    "kernelspec": {
      "name": "python3",
      "display_name": "Python 3"
    },
    "language_info": {
      "name": "python"
    }
  },
  "cells": [
    {
      "cell_type": "markdown",
      "metadata": {
        "id": "view-in-github",
        "colab_type": "text"
      },
      "source": [
        "<a href=\"https://colab.research.google.com/github/BHARGAVIGHEGDE/Machine_learning_projects/blob/main/Fake_news_prediction.ipynb\" target=\"_parent\"><img src=\"https://colab.research.google.com/assets/colab-badge.svg\" alt=\"Open In Colab\"/></a>"
      ]
    },
    {
      "cell_type": "markdown",
      "source": [
        "\n",
        "\n",
        "```\n",
        "\n",
        "```\n",
        "\n",
        "1:Fake news\n",
        "0>real news"
      ],
      "metadata": {
        "id": "eQavYeRaY97J"
      }
    },
    {
      "cell_type": "code",
      "source": [
        "#importing the dependencies\n",
        "import numpy as np\n",
        "import pandas as pd\n",
        "import re\n",
        "from  nltk.corpus import stopwords\n",
        "from nltk.stem.porter import PorterStemmer\n",
        "from sklearn.feature_extraction.text import TfidfVectorizer\n",
        "from sklearn.model_selection import train_test_split\n",
        "from sklearn.linear_model import LogisticRegression\n",
        "from sklearn.metrics import accuracy_score"
      ],
      "metadata": {
        "id": "VhGjva1fZF0C"
      },
      "execution_count": null,
      "outputs": []
    },
    {
      "cell_type": "code",
      "execution_count": null,
      "metadata": {
        "colab": {
          "base_uri": "https://localhost:8080/"
        },
        "id": "TLSGOhZmXCi-",
        "outputId": "b7162ceb-48cc-4c0d-b7ba-3831a1c0b375"
      },
      "outputs": [
        {
          "output_type": "stream",
          "name": "stderr",
          "text": [
            "[nltk_data] Downloading package stopwords to /root/nltk_data...\n",
            "[nltk_data]   Package stopwords is already up-to-date!\n"
          ]
        },
        {
          "output_type": "execute_result",
          "data": {
            "text/plain": [
              "True"
            ]
          },
          "metadata": {},
          "execution_count": 64
        }
      ],
      "source": [
        "import nltk\n",
        "nltk.download('stopwords')"
      ]
    },
    {
      "cell_type": "code",
      "source": [
        "#data preprocessing\n",
        "fake=pd.read_csv('train.csv', engine='python', encoding=\"ISO-8859-1\", error_bad_lines=False)\n"
      ],
      "metadata": {
        "colab": {
          "base_uri": "https://localhost:8080/"
        },
        "id": "bUFEH-ZwbMIF",
        "outputId": "dd8da5ea-16bc-480a-ab39-6fe36f3caa28"
      },
      "execution_count": null,
      "outputs": [
        {
          "output_type": "stream",
          "name": "stderr",
          "text": [
            "<ipython-input-66-96e10872aed8>:2: FutureWarning: The error_bad_lines argument has been deprecated and will be removed in a future version. Use on_bad_lines in the future.\n",
            "\n",
            "\n",
            "  fake=pd.read_csv('train.csv', engine='python', encoding=\"ISO-8859-1\", error_bad_lines=False)\n",
            "Skipping line 14438: field larger than field limit (131072)\n",
            "Skipping line 20686: field larger than field limit (131072)\n",
            "Skipping line 14444: Expected 5 fields in line 14444, saw 6\n",
            "Skipping line 20685: Expected 5 fields in line 20685, saw 8\n",
            "Skipping line 20686: Expected 5 fields in line 20686, saw 9\n",
            "Skipping line 20687: Expected 5 fields in line 20687, saw 7\n",
            "Skipping line 20690: Expected 5 fields in line 20690, saw 6\n",
            "Skipping line 20691: Expected 5 fields in line 20691, saw 9\n",
            "Skipping line 20692: Expected 5 fields in line 20692, saw 13\n",
            "Skipping line 20693: Expected 5 fields in line 20693, saw 17\n",
            "Skipping line 20699: Expected 5 fields in line 20699, saw 11\n",
            "Skipping line 20700: Expected 5 fields in line 20700, saw 6\n",
            "Skipping line 20701: Expected 5 fields in line 20701, saw 22\n",
            "Skipping line 20702: Expected 5 fields in line 20702, saw 14\n",
            "Skipping line 20703: Expected 5 fields in line 20703, saw 7\n",
            "Skipping line 20705: Expected 5 fields in line 20705, saw 8\n",
            "Skipping line 20706: Expected 5 fields in line 20706, saw 8\n",
            "Skipping line 20707: Expected 5 fields in line 20707, saw 10\n",
            "Skipping line 20708: Expected 5 fields in line 20708, saw 11\n",
            "Skipping line 20709: Expected 5 fields in line 20709, saw 12\n",
            "Skipping line 20710: Expected 5 fields in line 20710, saw 11\n",
            "Skipping line 20711: Expected 5 fields in line 20711, saw 7\n",
            "Skipping line 20716: Expected 5 fields in line 20716, saw 6\n",
            "Skipping line 20719: Expected 5 fields in line 20719, saw 7\n",
            "Skipping line 20721: Expected 5 fields in line 20721, saw 10\n",
            "Skipping line 20722: Expected 5 fields in line 20722, saw 14\n",
            "Skipping line 20723: Expected 5 fields in line 20723, saw 13\n",
            "Skipping line 20724: Expected 5 fields in line 20724, saw 9\n",
            "Skipping line 20725: Expected 5 fields in line 20725, saw 8\n",
            "Skipping line 20726: Expected 5 fields in line 20726, saw 14\n",
            "Skipping line 20727: Expected 5 fields in line 20727, saw 6\n",
            "Skipping line 20728: Expected 5 fields in line 20728, saw 10\n",
            "Skipping line 20729: Expected 5 fields in line 20729, saw 14\n",
            "Skipping line 20732: Expected 5 fields in line 20732, saw 13\n",
            "Skipping line 20734: Expected 5 fields in line 20734, saw 15\n",
            "Skipping line 20735: Expected 5 fields in line 20735, saw 9\n",
            "Skipping line 20736: Expected 5 fields in line 20736, saw 9\n",
            "Skipping line 20737: Expected 5 fields in line 20737, saw 6\n",
            "Skipping line 20738: Expected 5 fields in line 20738, saw 9\n",
            "Skipping line 20741: Expected 5 fields in line 20741, saw 6\n",
            "Skipping line 20744: Expected 5 fields in line 20744, saw 8\n",
            "Skipping line 20747: Expected 5 fields in line 20747, saw 13\n",
            "Skipping line 20753: Expected 5 fields in line 20753, saw 9\n",
            "Skipping line 20754: Expected 5 fields in line 20754, saw 7\n",
            "Skipping line 20755: Expected 5 fields in line 20755, saw 6\n",
            "Skipping line 20758: Expected 5 fields in line 20758, saw 6\n",
            "Skipping line 20759: Expected 5 fields in line 20759, saw 13\n",
            "Skipping line 20761: Expected 5 fields in line 20761, saw 17\n",
            "Skipping line 20762: Expected 5 fields in line 20762, saw 9\n",
            "Skipping line 20763: Expected 5 fields in line 20763, saw 14\n",
            "Skipping line 20765: Expected 5 fields in line 20765, saw 8\n",
            "Skipping line 20766: Expected 5 fields in line 20766, saw 22\n",
            "Skipping line 20768: Expected 5 fields in line 20768, saw 11\n",
            "Skipping line 20770: Expected 5 fields in line 20770, saw 14\n",
            "Skipping line 20771: Expected 5 fields in line 20771, saw 10\n",
            "Skipping line 20772: Expected 5 fields in line 20772, saw 11\n",
            "Skipping line 20773: Expected 5 fields in line 20773, saw 17\n",
            "Skipping line 20774: Expected 5 fields in line 20774, saw 9\n",
            "Skipping line 20775: Expected 5 fields in line 20775, saw 8\n",
            "Skipping line 20776: Expected 5 fields in line 20776, saw 9\n",
            "Skipping line 20777: Expected 5 fields in line 20777, saw 8\n",
            "Skipping line 20779: Expected 5 fields in line 20779, saw 14\n",
            "Skipping line 20781: Expected 5 fields in line 20781, saw 6\n",
            "Skipping line 20783: Expected 5 fields in line 20783, saw 6\n",
            "Skipping line 20784: Expected 5 fields in line 20784, saw 9\n",
            "Skipping line 20788: Expected 5 fields in line 20788, saw 11\n",
            "Skipping line 20789: Expected 5 fields in line 20789, saw 10\n",
            "Skipping line 20790: Expected 5 fields in line 20790, saw 9\n",
            "Skipping line 20791: Expected 5 fields in line 20791, saw 18\n",
            "Skipping line 20792: Expected 5 fields in line 20792, saw 6\n",
            "Skipping line 20794: Expected 5 fields in line 20794, saw 7\n",
            "Skipping line 20796: Expected 5 fields in line 20796, saw 17\n",
            "Skipping line 20797: Expected 5 fields in line 20797, saw 11\n",
            "Skipping line 20798: Expected 5 fields in line 20798, saw 13\n",
            "Skipping line 20799: Expected 5 fields in line 20799, saw 8\n",
            "Skipping line 20801: Expected 5 fields in line 20801, saw 12\n",
            "Skipping line 20803: Expected 5 fields in line 20803, saw 13\n",
            "Skipping line 20807: Expected 5 fields in line 20807, saw 15\n",
            "Skipping line 20808: Expected 5 fields in line 20808, saw 9\n",
            "Skipping line 20809: Expected 5 fields in line 20809, saw 12\n",
            "Skipping line 20810: Expected 5 fields in line 20810, saw 11\n",
            "Skipping line 20811: Expected 5 fields in line 20811, saw 15\n",
            "Skipping line 20812: Expected 5 fields in line 20812, saw 9\n",
            "Skipping line 20813: Expected 5 fields in line 20813, saw 18\n",
            "Skipping line 20814: Expected 5 fields in line 20814, saw 11\n",
            "Skipping line 20822: Expected 5 fields in line 20822, saw 6\n",
            "Skipping line 20824: Expected 5 fields in line 20824, saw 12\n",
            "Skipping line 20826: Expected 5 fields in line 20826, saw 8\n",
            "Skipping line 20827: Expected 5 fields in line 20827, saw 7\n",
            "Skipping line 20836: Expected 5 fields in line 20836, saw 9\n",
            "Skipping line 20838: Expected 5 fields in line 20838, saw 10\n",
            "Skipping line 20841: Expected 5 fields in line 20841, saw 6\n",
            "Skipping line 20842: Expected 5 fields in line 20842, saw 22\n",
            "Skipping line 20843: Expected 5 fields in line 20843, saw 12\n",
            "Skipping line 20844: Expected 5 fields in line 20844, saw 7\n",
            "Skipping line 20846: Expected 5 fields in line 20846, saw 10\n",
            "Skipping line 20848: Expected 5 fields in line 20848, saw 10\n",
            "Skipping line 20849: Expected 5 fields in line 20849, saw 11\n",
            "Skipping line 20850: Expected 5 fields in line 20850, saw 8\n",
            "Skipping line 20852: Expected 5 fields in line 20852, saw 10\n",
            "Skipping line 20854: Expected 5 fields in line 20854, saw 12\n",
            "Skipping line 20858: Expected 5 fields in line 20858, saw 6\n",
            "Skipping line 20861: Expected 5 fields in line 20861, saw 14\n",
            "Skipping line 20862: Expected 5 fields in line 20862, saw 8\n",
            "Skipping line 20863: Expected 5 fields in line 20863, saw 14\n",
            "Skipping line 20864: Expected 5 fields in line 20864, saw 8\n",
            "Skipping line 20865: Expected 5 fields in line 20865, saw 6\n",
            "Skipping line 20867: Expected 5 fields in line 20867, saw 7\n",
            "Skipping line 20868: Expected 5 fields in line 20868, saw 10\n",
            "Skipping line 20870: Expected 5 fields in line 20870, saw 14\n",
            "Skipping line 20872: Expected 5 fields in line 20872, saw 8\n",
            "Skipping line 20874: Expected 5 fields in line 20874, saw 7\n",
            "Skipping line 20875: Expected 5 fields in line 20875, saw 15\n",
            "Skipping line 20876: Expected 5 fields in line 20876, saw 9\n",
            "Skipping line 20877: Expected 5 fields in line 20877, saw 9\n",
            "Skipping line 20878: Expected 5 fields in line 20878, saw 12\n",
            "Skipping line 20879: Expected 5 fields in line 20879, saw 15\n",
            "Skipping line 20880: Expected 5 fields in line 20880, saw 8\n",
            "Skipping line 20881: Expected 5 fields in line 20881, saw 20\n",
            "Skipping line 20882: Expected 5 fields in line 20882, saw 8\n",
            "Skipping line 20883: Expected 5 fields in line 20883, saw 8\n",
            "Skipping line 20886: Expected 5 fields in line 20886, saw 8\n",
            "Skipping line 20887: Expected 5 fields in line 20887, saw 9\n",
            "Skipping line 20888: Expected 5 fields in line 20888, saw 18\n",
            "Skipping line 20889: Expected 5 fields in line 20889, saw 6\n",
            "Skipping line 20890: Expected 5 fields in line 20890, saw 7\n",
            "Skipping line 20891: Expected 5 fields in line 20891, saw 16\n",
            "Skipping line 20892: Expected 5 fields in line 20892, saw 24\n",
            "Skipping line 20893: Expected 5 fields in line 20893, saw 11\n"
          ]
        }
      ]
    },
    {
      "cell_type": "code",
      "source": [
        "fake.head()"
      ],
      "metadata": {
        "colab": {
          "base_uri": "https://localhost:8080/",
          "height": 285
        },
        "id": "TpSrULVObgtw",
        "outputId": "2d44d9f5-6033-4950-9b20-43fd68b59dac"
      },
      "execution_count": null,
      "outputs": [
        {
          "output_type": "execute_result",
          "data": {
            "text/plain": [
              "  id                                              title              author  \\\n",
              "0  0  House Dem Aide: We Didnât Even See Comeyâs...       Darrell Lucus   \n",
              "1  1  FLYNN: Hillary Clinton, Big Woman on Campus - ...     Daniel J. Flynn   \n",
              "2  2                  Why the Truth Might Get You Fired  Consortiumnews.com   \n",
              "3  3  15 Civilians Killed In Single US Airstrike Hav...     Jessica Purkiss   \n",
              "4  4  Iranian woman jailed for fictional unpublished...      Howard Portnoy   \n",
              "\n",
              "                                                text label  \n",
              "0  House Dem Aide: We Didnât Even See Comeyâs...     1  \n",
              "1  Ever get the feeling your life circles the rou...     0  \n",
              "2  Why the Truth Might Get You Fired October 29, ...     1  \n",
              "3  Videos 15 Civilians Killed In Single US Airstr...     1  \n",
              "4  Print \\nAn Iranian woman has been sentenced to...     1  "
            ],
            "text/html": [
              "\n",
              "  <div id=\"df-6cbb98a0-21cb-4dad-aef4-caf53216215b\">\n",
              "    <div class=\"colab-df-container\">\n",
              "      <div>\n",
              "<style scoped>\n",
              "    .dataframe tbody tr th:only-of-type {\n",
              "        vertical-align: middle;\n",
              "    }\n",
              "\n",
              "    .dataframe tbody tr th {\n",
              "        vertical-align: top;\n",
              "    }\n",
              "\n",
              "    .dataframe thead th {\n",
              "        text-align: right;\n",
              "    }\n",
              "</style>\n",
              "<table border=\"1\" class=\"dataframe\">\n",
              "  <thead>\n",
              "    <tr style=\"text-align: right;\">\n",
              "      <th></th>\n",
              "      <th>id</th>\n",
              "      <th>title</th>\n",
              "      <th>author</th>\n",
              "      <th>text</th>\n",
              "      <th>label</th>\n",
              "    </tr>\n",
              "  </thead>\n",
              "  <tbody>\n",
              "    <tr>\n",
              "      <th>0</th>\n",
              "      <td>0</td>\n",
              "      <td>House Dem Aide: We Didnât Even See Comeyâs...</td>\n",
              "      <td>Darrell Lucus</td>\n",
              "      <td>House Dem Aide: We Didnât Even See Comeyâs...</td>\n",
              "      <td>1</td>\n",
              "    </tr>\n",
              "    <tr>\n",
              "      <th>1</th>\n",
              "      <td>1</td>\n",
              "      <td>FLYNN: Hillary Clinton, Big Woman on Campus - ...</td>\n",
              "      <td>Daniel J. Flynn</td>\n",
              "      <td>Ever get the feeling your life circles the rou...</td>\n",
              "      <td>0</td>\n",
              "    </tr>\n",
              "    <tr>\n",
              "      <th>2</th>\n",
              "      <td>2</td>\n",
              "      <td>Why the Truth Might Get You Fired</td>\n",
              "      <td>Consortiumnews.com</td>\n",
              "      <td>Why the Truth Might Get You Fired October 29, ...</td>\n",
              "      <td>1</td>\n",
              "    </tr>\n",
              "    <tr>\n",
              "      <th>3</th>\n",
              "      <td>3</td>\n",
              "      <td>15 Civilians Killed In Single US Airstrike Hav...</td>\n",
              "      <td>Jessica Purkiss</td>\n",
              "      <td>Videos 15 Civilians Killed In Single US Airstr...</td>\n",
              "      <td>1</td>\n",
              "    </tr>\n",
              "    <tr>\n",
              "      <th>4</th>\n",
              "      <td>4</td>\n",
              "      <td>Iranian woman jailed for fictional unpublished...</td>\n",
              "      <td>Howard Portnoy</td>\n",
              "      <td>Print \\nAn Iranian woman has been sentenced to...</td>\n",
              "      <td>1</td>\n",
              "    </tr>\n",
              "  </tbody>\n",
              "</table>\n",
              "</div>\n",
              "      <button class=\"colab-df-convert\" onclick=\"convertToInteractive('df-6cbb98a0-21cb-4dad-aef4-caf53216215b')\"\n",
              "              title=\"Convert this dataframe to an interactive table.\"\n",
              "              style=\"display:none;\">\n",
              "        \n",
              "  <svg xmlns=\"http://www.w3.org/2000/svg\" height=\"24px\"viewBox=\"0 0 24 24\"\n",
              "       width=\"24px\">\n",
              "    <path d=\"M0 0h24v24H0V0z\" fill=\"none\"/>\n",
              "    <path d=\"M18.56 5.44l.94 2.06.94-2.06 2.06-.94-2.06-.94-.94-2.06-.94 2.06-2.06.94zm-11 1L8.5 8.5l.94-2.06 2.06-.94-2.06-.94L8.5 2.5l-.94 2.06-2.06.94zm10 10l.94 2.06.94-2.06 2.06-.94-2.06-.94-.94-2.06-.94 2.06-2.06.94z\"/><path d=\"M17.41 7.96l-1.37-1.37c-.4-.4-.92-.59-1.43-.59-.52 0-1.04.2-1.43.59L10.3 9.45l-7.72 7.72c-.78.78-.78 2.05 0 2.83L4 21.41c.39.39.9.59 1.41.59.51 0 1.02-.2 1.41-.59l7.78-7.78 2.81-2.81c.8-.78.8-2.07 0-2.86zM5.41 20L4 18.59l7.72-7.72 1.47 1.35L5.41 20z\"/>\n",
              "  </svg>\n",
              "      </button>\n",
              "      \n",
              "  <style>\n",
              "    .colab-df-container {\n",
              "      display:flex;\n",
              "      flex-wrap:wrap;\n",
              "      gap: 12px;\n",
              "    }\n",
              "\n",
              "    .colab-df-convert {\n",
              "      background-color: #E8F0FE;\n",
              "      border: none;\n",
              "      border-radius: 50%;\n",
              "      cursor: pointer;\n",
              "      display: none;\n",
              "      fill: #1967D2;\n",
              "      height: 32px;\n",
              "      padding: 0 0 0 0;\n",
              "      width: 32px;\n",
              "    }\n",
              "\n",
              "    .colab-df-convert:hover {\n",
              "      background-color: #E2EBFA;\n",
              "      box-shadow: 0px 1px 2px rgba(60, 64, 67, 0.3), 0px 1px 3px 1px rgba(60, 64, 67, 0.15);\n",
              "      fill: #174EA6;\n",
              "    }\n",
              "\n",
              "    [theme=dark] .colab-df-convert {\n",
              "      background-color: #3B4455;\n",
              "      fill: #D2E3FC;\n",
              "    }\n",
              "\n",
              "    [theme=dark] .colab-df-convert:hover {\n",
              "      background-color: #434B5C;\n",
              "      box-shadow: 0px 1px 3px 1px rgba(0, 0, 0, 0.15);\n",
              "      filter: drop-shadow(0px 1px 2px rgba(0, 0, 0, 0.3));\n",
              "      fill: #FFFFFF;\n",
              "    }\n",
              "  </style>\n",
              "\n",
              "      <script>\n",
              "        const buttonEl =\n",
              "          document.querySelector('#df-6cbb98a0-21cb-4dad-aef4-caf53216215b button.colab-df-convert');\n",
              "        buttonEl.style.display =\n",
              "          google.colab.kernel.accessAllowed ? 'block' : 'none';\n",
              "\n",
              "        async function convertToInteractive(key) {\n",
              "          const element = document.querySelector('#df-6cbb98a0-21cb-4dad-aef4-caf53216215b');\n",
              "          const dataTable =\n",
              "            await google.colab.kernel.invokeFunction('convertToInteractive',\n",
              "                                                     [key], {});\n",
              "          if (!dataTable) return;\n",
              "\n",
              "          const docLinkHtml = 'Like what you see? Visit the ' +\n",
              "            '<a target=\"_blank\" href=https://colab.research.google.com/notebooks/data_table.ipynb>data table notebook</a>'\n",
              "            + ' to learn more about interactive tables.';\n",
              "          element.innerHTML = '';\n",
              "          dataTable['output_type'] = 'display_data';\n",
              "          await google.colab.output.renderOutput(dataTable, element);\n",
              "          const docLink = document.createElement('div');\n",
              "          docLink.innerHTML = docLinkHtml;\n",
              "          element.appendChild(docLink);\n",
              "        }\n",
              "      </script>\n",
              "    </div>\n",
              "  </div>\n",
              "  "
            ]
          },
          "metadata": {},
          "execution_count": 67
        }
      ]
    },
    {
      "cell_type": "code",
      "source": [
        "fake.describe()"
      ],
      "metadata": {
        "colab": {
          "base_uri": "https://localhost:8080/",
          "height": 175
        },
        "id": "a69c-sgubj9M",
        "outputId": "f89ac419-85b2-4749-f087-fe5a7e1b7371"
      },
      "execution_count": null,
      "outputs": [
        {
          "output_type": "execute_result",
          "data": {
            "text/plain": [
              "           id                                              title   author  \\\n",
              "count   21803                                              21198    19687   \n",
              "unique  20898                                              19873     4242   \n",
              "top      1701  Schools All Over America Are Closing On Electi...  Pam Key   \n",
              "freq        2                                                  7      251   \n",
              "\n",
              "         text  label  \n",
              "count   21690  21718  \n",
              "unique  20417     19  \n",
              "top                1  \n",
              "freq       79  10879  "
            ],
            "text/html": [
              "\n",
              "  <div id=\"df-4b72ad29-b25e-43f6-8d84-7a94feda26a4\">\n",
              "    <div class=\"colab-df-container\">\n",
              "      <div>\n",
              "<style scoped>\n",
              "    .dataframe tbody tr th:only-of-type {\n",
              "        vertical-align: middle;\n",
              "    }\n",
              "\n",
              "    .dataframe tbody tr th {\n",
              "        vertical-align: top;\n",
              "    }\n",
              "\n",
              "    .dataframe thead th {\n",
              "        text-align: right;\n",
              "    }\n",
              "</style>\n",
              "<table border=\"1\" class=\"dataframe\">\n",
              "  <thead>\n",
              "    <tr style=\"text-align: right;\">\n",
              "      <th></th>\n",
              "      <th>id</th>\n",
              "      <th>title</th>\n",
              "      <th>author</th>\n",
              "      <th>text</th>\n",
              "      <th>label</th>\n",
              "    </tr>\n",
              "  </thead>\n",
              "  <tbody>\n",
              "    <tr>\n",
              "      <th>count</th>\n",
              "      <td>21803</td>\n",
              "      <td>21198</td>\n",
              "      <td>19687</td>\n",
              "      <td>21690</td>\n",
              "      <td>21718</td>\n",
              "    </tr>\n",
              "    <tr>\n",
              "      <th>unique</th>\n",
              "      <td>20898</td>\n",
              "      <td>19873</td>\n",
              "      <td>4242</td>\n",
              "      <td>20417</td>\n",
              "      <td>19</td>\n",
              "    </tr>\n",
              "    <tr>\n",
              "      <th>top</th>\n",
              "      <td>1701</td>\n",
              "      <td>Schools All Over America Are Closing On Electi...</td>\n",
              "      <td>Pam Key</td>\n",
              "      <td></td>\n",
              "      <td>1</td>\n",
              "    </tr>\n",
              "    <tr>\n",
              "      <th>freq</th>\n",
              "      <td>2</td>\n",
              "      <td>7</td>\n",
              "      <td>251</td>\n",
              "      <td>79</td>\n",
              "      <td>10879</td>\n",
              "    </tr>\n",
              "  </tbody>\n",
              "</table>\n",
              "</div>\n",
              "      <button class=\"colab-df-convert\" onclick=\"convertToInteractive('df-4b72ad29-b25e-43f6-8d84-7a94feda26a4')\"\n",
              "              title=\"Convert this dataframe to an interactive table.\"\n",
              "              style=\"display:none;\">\n",
              "        \n",
              "  <svg xmlns=\"http://www.w3.org/2000/svg\" height=\"24px\"viewBox=\"0 0 24 24\"\n",
              "       width=\"24px\">\n",
              "    <path d=\"M0 0h24v24H0V0z\" fill=\"none\"/>\n",
              "    <path d=\"M18.56 5.44l.94 2.06.94-2.06 2.06-.94-2.06-.94-.94-2.06-.94 2.06-2.06.94zm-11 1L8.5 8.5l.94-2.06 2.06-.94-2.06-.94L8.5 2.5l-.94 2.06-2.06.94zm10 10l.94 2.06.94-2.06 2.06-.94-2.06-.94-.94-2.06-.94 2.06-2.06.94z\"/><path d=\"M17.41 7.96l-1.37-1.37c-.4-.4-.92-.59-1.43-.59-.52 0-1.04.2-1.43.59L10.3 9.45l-7.72 7.72c-.78.78-.78 2.05 0 2.83L4 21.41c.39.39.9.59 1.41.59.51 0 1.02-.2 1.41-.59l7.78-7.78 2.81-2.81c.8-.78.8-2.07 0-2.86zM5.41 20L4 18.59l7.72-7.72 1.47 1.35L5.41 20z\"/>\n",
              "  </svg>\n",
              "      </button>\n",
              "      \n",
              "  <style>\n",
              "    .colab-df-container {\n",
              "      display:flex;\n",
              "      flex-wrap:wrap;\n",
              "      gap: 12px;\n",
              "    }\n",
              "\n",
              "    .colab-df-convert {\n",
              "      background-color: #E8F0FE;\n",
              "      border: none;\n",
              "      border-radius: 50%;\n",
              "      cursor: pointer;\n",
              "      display: none;\n",
              "      fill: #1967D2;\n",
              "      height: 32px;\n",
              "      padding: 0 0 0 0;\n",
              "      width: 32px;\n",
              "    }\n",
              "\n",
              "    .colab-df-convert:hover {\n",
              "      background-color: #E2EBFA;\n",
              "      box-shadow: 0px 1px 2px rgba(60, 64, 67, 0.3), 0px 1px 3px 1px rgba(60, 64, 67, 0.15);\n",
              "      fill: #174EA6;\n",
              "    }\n",
              "\n",
              "    [theme=dark] .colab-df-convert {\n",
              "      background-color: #3B4455;\n",
              "      fill: #D2E3FC;\n",
              "    }\n",
              "\n",
              "    [theme=dark] .colab-df-convert:hover {\n",
              "      background-color: #434B5C;\n",
              "      box-shadow: 0px 1px 3px 1px rgba(0, 0, 0, 0.15);\n",
              "      filter: drop-shadow(0px 1px 2px rgba(0, 0, 0, 0.3));\n",
              "      fill: #FFFFFF;\n",
              "    }\n",
              "  </style>\n",
              "\n",
              "      <script>\n",
              "        const buttonEl =\n",
              "          document.querySelector('#df-4b72ad29-b25e-43f6-8d84-7a94feda26a4 button.colab-df-convert');\n",
              "        buttonEl.style.display =\n",
              "          google.colab.kernel.accessAllowed ? 'block' : 'none';\n",
              "\n",
              "        async function convertToInteractive(key) {\n",
              "          const element = document.querySelector('#df-4b72ad29-b25e-43f6-8d84-7a94feda26a4');\n",
              "          const dataTable =\n",
              "            await google.colab.kernel.invokeFunction('convertToInteractive',\n",
              "                                                     [key], {});\n",
              "          if (!dataTable) return;\n",
              "\n",
              "          const docLinkHtml = 'Like what you see? Visit the ' +\n",
              "            '<a target=\"_blank\" href=https://colab.research.google.com/notebooks/data_table.ipynb>data table notebook</a>'\n",
              "            + ' to learn more about interactive tables.';\n",
              "          element.innerHTML = '';\n",
              "          dataTable['output_type'] = 'display_data';\n",
              "          await google.colab.output.renderOutput(dataTable, element);\n",
              "          const docLink = document.createElement('div');\n",
              "          docLink.innerHTML = docLinkHtml;\n",
              "          element.appendChild(docLink);\n",
              "        }\n",
              "      </script>\n",
              "    </div>\n",
              "  </div>\n",
              "  "
            ]
          },
          "metadata": {},
          "execution_count": 68
        }
      ]
    },
    {
      "cell_type": "code",
      "source": [
        "fake.shape"
      ],
      "metadata": {
        "colab": {
          "base_uri": "https://localhost:8080/"
        },
        "id": "TBDbVTaQbnpA",
        "outputId": "ab65cd54-8320-4175-fdc5-d7acbf96e720"
      },
      "execution_count": null,
      "outputs": [
        {
          "output_type": "execute_result",
          "data": {
            "text/plain": [
              "(21803, 5)"
            ]
          },
          "metadata": {},
          "execution_count": 69
        }
      ]
    },
    {
      "cell_type": "code",
      "source": [
        "fake.isnull().sum()"
      ],
      "metadata": {
        "colab": {
          "base_uri": "https://localhost:8080/"
        },
        "id": "7ziuYCixbo4Y",
        "outputId": "dbbba12b-5d78-474a-d152-b28995829dec"
      },
      "execution_count": null,
      "outputs": [
        {
          "output_type": "execute_result",
          "data": {
            "text/plain": [
              "id           0\n",
              "title      605\n",
              "author    2116\n",
              "text       113\n",
              "label       85\n",
              "dtype: int64"
            ]
          },
          "metadata": {},
          "execution_count": 70
        }
      ]
    },
    {
      "cell_type": "code",
      "source": [
        "fake.info()"
      ],
      "metadata": {
        "colab": {
          "base_uri": "https://localhost:8080/"
        },
        "id": "RBF97TiFbwIt",
        "outputId": "63f64c18-de26-4246-d6e3-3bfc93122570"
      },
      "execution_count": null,
      "outputs": [
        {
          "output_type": "stream",
          "name": "stdout",
          "text": [
            "<class 'pandas.core.frame.DataFrame'>\n",
            "RangeIndex: 21803 entries, 0 to 21802\n",
            "Data columns (total 5 columns):\n",
            " #   Column  Non-Null Count  Dtype \n",
            "---  ------  --------------  ----- \n",
            " 0   id      21803 non-null  object\n",
            " 1   title   21198 non-null  object\n",
            " 2   author  19687 non-null  object\n",
            " 3   text    21690 non-null  object\n",
            " 4   label   21718 non-null  object\n",
            "dtypes: object(5)\n",
            "memory usage: 851.8+ KB\n"
          ]
        }
      ]
    },
    {
      "cell_type": "code",
      "source": [
        "#replacing the null values with empty string\n",
        "fake=fake.fillna('')"
      ],
      "metadata": {
        "id": "cWO8RjYpcEPk"
      },
      "execution_count": null,
      "outputs": []
    },
    {
      "cell_type": "code",
      "source": [
        "#merging the author name and news title\n",
        "fake['content']=fake['author']+':'+fake['title']"
      ],
      "metadata": {
        "id": "OGeXkpukgKuc"
      },
      "execution_count": null,
      "outputs": []
    },
    {
      "cell_type": "code",
      "source": [
        "print(fake['content'])"
      ],
      "metadata": {
        "colab": {
          "base_uri": "https://localhost:8080/"
        },
        "id": "S3z5WKRxgmxx",
        "outputId": "540d6796-4a86-4b43-e5d8-d2a9e082866f"
      },
      "execution_count": null,
      "outputs": [
        {
          "output_type": "stream",
          "name": "stdout",
          "text": [
            "0        Darrell Lucus:House Dem Aide: We Didnât Even...\n",
            "1        Daniel J. Flynn:FLYNN: Hillary Clinton, Big Wo...\n",
            "2        Consortiumnews.com:Why the Truth Might Get You...\n",
            "3        Jessica Purkiss:15 Civilians Killed In Single ...\n",
            "4        Howard Portnoy:Iranian woman jailed for fictio...\n",
            "                               ...                        \n",
            "21798    Jerome Hudson:Rapper T.I.: Trump a âPoster C...\n",
            "21799    Benjamin Hoffman:N.F.L. Playoffs: Schedule, Ma...\n",
            "21800    Michael J. de la Merced and Rachel Abrams:Macy...\n",
            "21801    Alex Ansary:NATO, Russia To Hold Parallel Exer...\n",
            "21802              David Swanson:What Keeps the F-35 Alive\n",
            "Name: content, Length: 21803, dtype: object\n"
          ]
        }
      ]
    },
    {
      "cell_type": "code",
      "source": [
        "x = fake['content'].values\n",
        "y = fake['label'].values"
      ],
      "metadata": {
        "id": "8QaL1znEo6qb"
      },
      "execution_count": null,
      "outputs": []
    },
    {
      "cell_type": "code",
      "source": [
        "print(x)"
      ],
      "metadata": {
        "colab": {
          "base_uri": "https://localhost:8080/"
        },
        "id": "DHSxsrtXhI5Y",
        "outputId": "96214b03-88de-4d6b-84d5-9796b4148dae"
      },
      "execution_count": null,
      "outputs": [
        {
          "output_type": "stream",
          "name": "stdout",
          "text": [
            "['Darrell Lucus:House Dem Aide: We Didnâ\\x80\\x99t Even See Comeyâ\\x80\\x99s Letter Until Jason Chaffetz Tweeted It'\n",
            " 'Daniel J. Flynn:FLYNN: Hillary Clinton, Big Woman on Campus - Breitbart'\n",
            " 'Consortiumnews.com:Why the Truth Might Get You Fired' ...\n",
            " 'Michael J. de la Merced and Rachel Abrams:Macyâ\\x80\\x99s Is Said to Receive Takeover Approach by Hudsonâ\\x80\\x99s Bay - The New York Times'\n",
            " 'Alex Ansary:NATO, Russia To Hold Parallel Exercises In Balkans'\n",
            " 'David Swanson:What Keeps the F-35 Alive']\n"
          ]
        }
      ]
    },
    {
      "cell_type": "code",
      "source": [
        "print(y)"
      ],
      "metadata": {
        "colab": {
          "base_uri": "https://localhost:8080/"
        },
        "id": "8BvF6SwlhLxK",
        "outputId": "64bd73e4-3a52-4be2-fb0e-4d8e339019c4"
      },
      "execution_count": null,
      "outputs": [
        {
          "output_type": "stream",
          "name": "stdout",
          "text": [
            "['1' '0' '1' ... '0' '1' '1']\n"
          ]
        }
      ]
    },
    {
      "cell_type": "code",
      "source": [
        "#converting the textual data to numerical data\n",
        "vectorizer=TfidfVectorizer()\n",
        "vectorizer.fit(x)\n",
        "x=vectorizer.transform(x)"
      ],
      "metadata": {
        "id": "DZpRfVBpkgOm"
      },
      "execution_count": null,
      "outputs": []
    },
    {
      "cell_type": "code",
      "source": [
        "print(x)"
      ],
      "metadata": {
        "colab": {
          "base_uri": "https://localhost:8080/"
        },
        "id": "4bn7CQlqlt7z",
        "outputId": "1c429b7d-2267-4d99-c6d7-513a72f86bed"
      },
      "execution_count": null,
      "outputs": [
        {
          "output_type": "stream",
          "name": "stdout",
          "text": [
            "  (0, 25982)\t0.18166335939070452\n",
            "  (0, 25191)\t0.2608276226929919\n",
            "  (0, 24793)\t0.342885300460925\n",
            "  (0, 21289)\t0.21930856473268864\n",
            "  (0, 14342)\t0.29784492157888187\n",
            "  (0, 13906)\t0.2446703588134178\n",
            "  (0, 12672)\t0.20114565588334526\n",
            "  (0, 12558)\t0.16057112123823733\n",
            "  (0, 11515)\t0.18221980095452714\n",
            "  (0, 8364)\t0.22575990542436408\n",
            "  (0, 6810)\t0.24399721989383644\n",
            "  (0, 6431)\t0.2446703588134178\n",
            "  (0, 6110)\t0.2948286230245799\n",
            "  (0, 4990)\t0.26424010344648446\n",
            "  (0, 4253)\t0.30114890282248763\n",
            "  (0, 975)\t0.25976090575595207\n",
            "  (1, 26419)\t0.3026260904757769\n",
            "  (1, 16864)\t0.15761695308194226\n",
            "  (1, 11224)\t0.191202222682647\n",
            "  (1, 9317)\t0.7016140882942715\n",
            "  (1, 6069)\t0.2614619628975451\n",
            "  (1, 4752)\t0.19472555310805073\n",
            "  (1, 3859)\t0.3769076126757565\n",
            "  (1, 3379)\t0.15219222647138084\n",
            "  (1, 2784)\t0.28853336938038443\n",
            "  :\t:\n",
            "  (21800, 12501)\t0.11964198299957299\n",
            "  (21800, 11562)\t0.3540028585706694\n",
            "  (21800, 6172)\t0.19482715948898652\n",
            "  (21800, 3740)\t0.13785686807667752\n",
            "  (21800, 2479)\t0.2986700299350304\n",
            "  (21800, 1596)\t0.2924017748002888\n",
            "  (21800, 1337)\t0.0939872888398623\n",
            "  (21800, 575)\t0.27156269285138823\n",
            "  (21801, 24215)\t0.10971226442523865\n",
            "  (21801, 20687)\t0.21381148717731224\n",
            "  (21801, 17393)\t0.43250046991212715\n",
            "  (21801, 16118)\t0.3042479454320203\n",
            "  (21801, 11949)\t0.12319809614682262\n",
            "  (21801, 11330)\t0.3374660517340987\n",
            "  (21801, 8478)\t0.43250046991212715\n",
            "  (21801, 2255)\t0.43250046991212715\n",
            "  (21801, 1435)\t0.2948560369950041\n",
            "  (21801, 1095)\t0.2692766156647696\n",
            "  (21802, 26134)\t0.270766394483385\n",
            "  (21802, 23962)\t0.10098722508946864\n",
            "  (21802, 23441)\t0.4467861481816122\n",
            "  (21802, 13121)\t0.456810462940429\n",
            "  (21802, 6142)\t0.2977458432642259\n",
            "  (21802, 1131)\t0.4467861481816122\n",
            "  (21802, 286)\t0.4689595178054284\n"
          ]
        }
      ]
    },
    {
      "cell_type": "code",
      "source": [
        " #splitting data into training and test data\n",
        "x_train,x_test,y_train,y_test=train_test_split(x,y,test_size=0.2,random_state=2)"
      ],
      "metadata": {
        "id": "rvvV1vqume0H"
      },
      "execution_count": null,
      "outputs": []
    },
    {
      "cell_type": "code",
      "source": [
        "#training the model:Logistic Regression model\n",
        "model=LogisticRegression()"
      ],
      "metadata": {
        "id": "euMHeTSNn1xk"
      },
      "execution_count": null,
      "outputs": []
    },
    {
      "cell_type": "code",
      "source": [
        "model.fit(x_train,y_train)"
      ],
      "metadata": {
        "colab": {
          "base_uri": "https://localhost:8080/",
          "height": 75
        },
        "id": "xKs9JpkdpZZ5",
        "outputId": "c0e61839-6a3c-467d-c673-972513b61af9"
      },
      "execution_count": null,
      "outputs": [
        {
          "output_type": "execute_result",
          "data": {
            "text/plain": [
              "LogisticRegression()"
            ],
            "text/html": [
              "<style>#sk-container-id-1 {color: black;background-color: white;}#sk-container-id-1 pre{padding: 0;}#sk-container-id-1 div.sk-toggleable {background-color: white;}#sk-container-id-1 label.sk-toggleable__label {cursor: pointer;display: block;width: 100%;margin-bottom: 0;padding: 0.3em;box-sizing: border-box;text-align: center;}#sk-container-id-1 label.sk-toggleable__label-arrow:before {content: \"▸\";float: left;margin-right: 0.25em;color: #696969;}#sk-container-id-1 label.sk-toggleable__label-arrow:hover:before {color: black;}#sk-container-id-1 div.sk-estimator:hover label.sk-toggleable__label-arrow:before {color: black;}#sk-container-id-1 div.sk-toggleable__content {max-height: 0;max-width: 0;overflow: hidden;text-align: left;background-color: #f0f8ff;}#sk-container-id-1 div.sk-toggleable__content pre {margin: 0.2em;color: black;border-radius: 0.25em;background-color: #f0f8ff;}#sk-container-id-1 input.sk-toggleable__control:checked~div.sk-toggleable__content {max-height: 200px;max-width: 100%;overflow: auto;}#sk-container-id-1 input.sk-toggleable__control:checked~label.sk-toggleable__label-arrow:before {content: \"▾\";}#sk-container-id-1 div.sk-estimator input.sk-toggleable__control:checked~label.sk-toggleable__label {background-color: #d4ebff;}#sk-container-id-1 div.sk-label input.sk-toggleable__control:checked~label.sk-toggleable__label {background-color: #d4ebff;}#sk-container-id-1 input.sk-hidden--visually {border: 0;clip: rect(1px 1px 1px 1px);clip: rect(1px, 1px, 1px, 1px);height: 1px;margin: -1px;overflow: hidden;padding: 0;position: absolute;width: 1px;}#sk-container-id-1 div.sk-estimator {font-family: monospace;background-color: #f0f8ff;border: 1px dotted black;border-radius: 0.25em;box-sizing: border-box;margin-bottom: 0.5em;}#sk-container-id-1 div.sk-estimator:hover {background-color: #d4ebff;}#sk-container-id-1 div.sk-parallel-item::after {content: \"\";width: 100%;border-bottom: 1px solid gray;flex-grow: 1;}#sk-container-id-1 div.sk-label:hover label.sk-toggleable__label {background-color: #d4ebff;}#sk-container-id-1 div.sk-serial::before {content: \"\";position: absolute;border-left: 1px solid gray;box-sizing: border-box;top: 0;bottom: 0;left: 50%;z-index: 0;}#sk-container-id-1 div.sk-serial {display: flex;flex-direction: column;align-items: center;background-color: white;padding-right: 0.2em;padding-left: 0.2em;position: relative;}#sk-container-id-1 div.sk-item {position: relative;z-index: 1;}#sk-container-id-1 div.sk-parallel {display: flex;align-items: stretch;justify-content: center;background-color: white;position: relative;}#sk-container-id-1 div.sk-item::before, #sk-container-id-1 div.sk-parallel-item::before {content: \"\";position: absolute;border-left: 1px solid gray;box-sizing: border-box;top: 0;bottom: 0;left: 50%;z-index: -1;}#sk-container-id-1 div.sk-parallel-item {display: flex;flex-direction: column;z-index: 1;position: relative;background-color: white;}#sk-container-id-1 div.sk-parallel-item:first-child::after {align-self: flex-end;width: 50%;}#sk-container-id-1 div.sk-parallel-item:last-child::after {align-self: flex-start;width: 50%;}#sk-container-id-1 div.sk-parallel-item:only-child::after {width: 0;}#sk-container-id-1 div.sk-dashed-wrapped {border: 1px dashed gray;margin: 0 0.4em 0.5em 0.4em;box-sizing: border-box;padding-bottom: 0.4em;background-color: white;}#sk-container-id-1 div.sk-label label {font-family: monospace;font-weight: bold;display: inline-block;line-height: 1.2em;}#sk-container-id-1 div.sk-label-container {text-align: center;}#sk-container-id-1 div.sk-container {/* jupyter's `normalize.less` sets `[hidden] { display: none; }` but bootstrap.min.css set `[hidden] { display: none !important; }` so we also need the `!important` here to be able to override the default hidden behavior on the sphinx rendered scikit-learn.org. See: https://github.com/scikit-learn/scikit-learn/issues/21755 */display: inline-block !important;position: relative;}#sk-container-id-1 div.sk-text-repr-fallback {display: none;}</style><div id=\"sk-container-id-1\" class=\"sk-top-container\"><div class=\"sk-text-repr-fallback\"><pre>LogisticRegression()</pre><b>In a Jupyter environment, please rerun this cell to show the HTML representation or trust the notebook. <br />On GitHub, the HTML representation is unable to render, please try loading this page with nbviewer.org.</b></div><div class=\"sk-container\" hidden><div class=\"sk-item\"><div class=\"sk-estimator sk-toggleable\"><input class=\"sk-toggleable__control sk-hidden--visually\" id=\"sk-estimator-id-1\" type=\"checkbox\" checked><label for=\"sk-estimator-id-1\" class=\"sk-toggleable__label sk-toggleable__label-arrow\">LogisticRegression</label><div class=\"sk-toggleable__content\"><pre>LogisticRegression()</pre></div></div></div></div></div>"
            ]
          },
          "metadata": {},
          "execution_count": 95
        }
      ]
    },
    {
      "cell_type": "code",
      "source": [
        "#finding the accuracy score\n",
        "accuracy_training_score=model.predict(x_train)\n",
        "train=accuracy_score(accuracy_training_score,y_train)\n",
        "print(train)"
      ],
      "metadata": {
        "colab": {
          "base_uri": "https://localhost:8080/"
        },
        "id": "k4DJyHYxp5z6",
        "outputId": "230d8c57-544d-43ed-8c35-ce114a698b69"
      },
      "execution_count": null,
      "outputs": [
        {
          "output_type": "stream",
          "name": "stdout",
          "text": [
            "0.9902534113060428\n"
          ]
        }
      ]
    },
    {
      "cell_type": "code",
      "source": [
        "accuracy_testing_score=model.predict(x_test)\n",
        "test=accuracy_score(accuracy_testing_score,y_test)\n",
        "print(test)"
      ],
      "metadata": {
        "colab": {
          "base_uri": "https://localhost:8080/"
        },
        "id": "z11JYZRHqQrq",
        "outputId": "eb04aabf-7741-4416-b2a9-82145d64c724"
      },
      "execution_count": null,
      "outputs": [
        {
          "output_type": "stream",
          "name": "stdout",
          "text": [
            "0.9750057326301307\n"
          ]
        }
      ]
    },
    {
      "cell_type": "code",
      "source": [
        "#making a prediction system\n",
        "input=x_test[0]\n",
        "predict=model.predict(input)\n",
        "if(predict==0):\n",
        "  print(\"the news is not fake\")\n",
        "else:\n",
        "  print(\"the news is fake\")  "
      ],
      "metadata": {
        "colab": {
          "base_uri": "https://localhost:8080/"
        },
        "id": "qL-ZppwPqjiz",
        "outputId": "69b1fded-1d0e-4008-e233-72faccd6c675"
      },
      "execution_count": 102,
      "outputs": [
        {
          "output_type": "stream",
          "name": "stdout",
          "text": [
            "the news is fake\n"
          ]
        }
      ]
    },
    {
      "cell_type": "code",
      "source": [
        " "
      ],
      "metadata": {
        "id": "J6IdEYgOq3tc"
      },
      "execution_count": null,
      "outputs": []
    }
  ]
}